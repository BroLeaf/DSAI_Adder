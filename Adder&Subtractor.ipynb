{
 "cells": [
  {
   "cell_type": "code",
   "execution_count": 22,
   "metadata": {
    "scrolled": true
   },
   "outputs": [],
   "source": [
    "from keras.models import Sequential\n",
    "from keras import layers\n",
    "import numpy as np\n",
    "from six.moves import range"
   ]
  },
  {
   "cell_type": "code",
   "execution_count": 23,
   "metadata": {},
   "outputs": [
    {
     "data": {
      "text/plain": [
       "0.6117645670609446"
      ]
     },
     "execution_count": 23,
     "metadata": {},
     "output_type": "execute_result"
    }
   ],
   "source": [
    "np.random.rand(1)[0]"
   ]
  },
  {
   "cell_type": "code",
   "execution_count": 24,
   "metadata": {},
   "outputs": [],
   "source": [
    "class colors:\n",
    "    ok = '\\033[92m'\n",
    "    fail = '\\033[91m'\n",
    "    close = '\\033[0m'"
   ]
  },
  {
   "cell_type": "code",
   "execution_count": 25,
   "metadata": {},
   "outputs": [],
   "source": [
    "TRAINING_SIZE = 80000\n",
    "DIGITS = 3\n",
    "REVERSE = False\n",
    "MAXLEN = DIGITS + 1 + DIGITS\n",
    "chars = '0123456789+- '\n",
    "RNN = layers.LSTM\n",
    "HIDDEN_SIZE = 128\n",
    "BATCH_SIZE = 128\n",
    "LAYERS = 1"
   ]
  },
  {
   "cell_type": "code",
   "execution_count": 26,
   "metadata": {},
   "outputs": [],
   "source": [
    "class CharacterTable(object):\n",
    "    def __init__(self, chars):\n",
    "        self.chars = sorted(set(chars))\n",
    "        self.char_indices = dict((c, i) for i, c in enumerate(self.chars))\n",
    "        self.indices_char = dict((i, c) for i, c in enumerate(self.chars))\n",
    "    \n",
    "    def encode(self, C, num_rows):\n",
    "        x = np.zeros((num_rows, len(self.chars)))\n",
    "        for i, c in enumerate(C):\n",
    "            x[i, self.char_indices[c]] = 1\n",
    "        return x\n",
    "    \n",
    "    def decode(self, x, calc_argmax=True):\n",
    "        if calc_argmax:\n",
    "            x = x.argmax(axis=-1)\n",
    "        return \"\".join(self.indices_char[i] for i in x)"
   ]
  },
  {
   "cell_type": "code",
   "execution_count": 27,
   "metadata": {},
   "outputs": [],
   "source": [
    "ctable = CharacterTable(chars)"
   ]
  },
  {
   "cell_type": "code",
   "execution_count": 28,
   "metadata": {},
   "outputs": [
    {
     "data": {
      "text/plain": [
       "{0: ' ',\n",
       " 1: '+',\n",
       " 2: '-',\n",
       " 3: '0',\n",
       " 4: '1',\n",
       " 5: '2',\n",
       " 6: '3',\n",
       " 7: '4',\n",
       " 8: '5',\n",
       " 9: '6',\n",
       " 10: '7',\n",
       " 11: '8',\n",
       " 12: '9'}"
      ]
     },
     "execution_count": 28,
     "metadata": {},
     "output_type": "execute_result"
    }
   ],
   "source": [
    "ctable.indices_char"
   ]
  },
  {
   "cell_type": "code",
   "execution_count": 39,
   "metadata": {},
   "outputs": [
    {
     "name": "stdout",
     "output_type": "stream",
     "text": [
      "Generating data...\n",
      "Total addition questions: 80000\n"
     ]
    }
   ],
   "source": [
    "questions = []\n",
    "expected = []\n",
    "seen = set()\n",
    "print('Generating data...')\n",
    "while len(questions) < TRAINING_SIZE:\n",
    "    f = lambda: int(''.join(np.random.choice(list('0123456789')) for i in range(np.random.randint(1, DIGITS + 1))))\n",
    "    a, b = f(), f()\n",
    "    if b > a:\n",
    "        b = a^b\n",
    "        a = a^b\n",
    "        b = a^b\n",
    "    key = tuple(sorted((a, b)))\n",
    "    if key in seen:\n",
    "        continue\n",
    "    seen.add(key)\n",
    "    if (a+b) > 1000:\n",
    "        ans = str(a + b)\n",
    "        q = '{}+{}'.format(a, b)\n",
    "    else:\n",
    "        ans = str(a - b)\n",
    "        q = '{}-{}'.format(a, b)\n",
    "        \n",
    "    query = q + ' ' * (MAXLEN - len(q))\n",
    "    ans += ' ' * (DIGITS + 1 - len(ans))\n",
    "    if REVERSE:\n",
    "        query = query[::-1]\n",
    "    questions.append(query)\n",
    "    expected.append(ans)\n",
    "print('Total addition questions:', len(questions))"
   ]
  },
  {
   "cell_type": "code",
   "execution_count": 41,
   "metadata": {},
   "outputs": [
    {
     "name": "stdout",
     "output_type": "stream",
     "text": [
      "['23-11  ', '5-5    ', '58-3   ', '5-1    ', '4-3    '] ['12  ', '0   ', '55  ', '4   ', '1   ']\n"
     ]
    }
   ],
   "source": [
    "print(questions[:5], expected[:5])"
   ]
  },
  {
   "cell_type": "code",
   "execution_count": 42,
   "metadata": {},
   "outputs": [
    {
     "name": "stdout",
     "output_type": "stream",
     "text": [
      "Vectorization...\n"
     ]
    }
   ],
   "source": [
    "print('Vectorization...')\n",
    "x = np.zeros((len(questions), MAXLEN, len(chars)), dtype=np.bool)\n",
    "y = np.zeros((len(expected), DIGITS + 1, len(chars)), dtype=np.bool)\n",
    "for i, sentence in enumerate(questions):\n",
    "    x[i] = ctable.encode(sentence, MAXLEN)\n",
    "for i, sentence in enumerate(expected):\n",
    "    y[i] = ctable.encode(sentence, DIGITS + 1)"
   ]
  },
  {
   "cell_type": "code",
   "execution_count": 43,
   "metadata": {},
   "outputs": [
    {
     "name": "stdout",
     "output_type": "stream",
     "text": [
      "Training Data:\n",
      "(18000, 7, 13)\n",
      "(18000, 4, 13)\n",
      "Validation Data:\n",
      "(2000, 7, 13)\n",
      "(2000, 4, 13)\n",
      "Testing Data:\n",
      "(60000, 7, 13)\n",
      "(60000, 4, 13)\n"
     ]
    }
   ],
   "source": [
    "indices = np.arange(len(y))\n",
    "np.random.shuffle(indices)\n",
    "x = x[indices]\n",
    "y = y[indices]\n",
    "\n",
    "# train_test_split\n",
    "train_x = x[:20000]\n",
    "train_y = y[:20000]\n",
    "test_x = x[20000:]\n",
    "test_y = y[20000:]\n",
    "\n",
    "split_at = len(train_x) - len(train_x) // 10\n",
    "(x_train, x_val) = train_x[:split_at], train_x[split_at:]\n",
    "(y_train, y_val) = train_y[:split_at], train_y[split_at:]\n",
    "\n",
    "print('Training Data:')\n",
    "print(x_train.shape)\n",
    "print(y_train.shape)\n",
    "\n",
    "print('Validation Data:')\n",
    "print(x_val.shape)\n",
    "print(y_val.shape)\n",
    "\n",
    "print('Testing Data:')\n",
    "print(test_x.shape)\n",
    "print(test_y.shape)"
   ]
  },
  {
   "cell_type": "code",
   "execution_count": 44,
   "metadata": {
    "scrolled": true
   },
   "outputs": [
    {
     "name": "stdout",
     "output_type": "stream",
     "text": [
      "input:  [[[False False False False False False False False  True False False\n",
      "   False False]\n",
      "  [False False False  True False False False False False False False\n",
      "   False False]\n",
      "  [False False False False False False False False  True False False\n",
      "   False False]\n",
      "  [False False  True False False False False False False False False\n",
      "   False False]\n",
      "  [False False False False  True False False False False False False\n",
      "   False False]\n",
      "  [False False False  True False False False False False False False\n",
      "   False False]\n",
      "  [ True False False False False False False False False False False\n",
      "   False False]]\n",
      "\n",
      " [[False False False False False False False False False False False\n",
      "   False  True]\n",
      "  [False False False False False False False False False False False\n",
      "   False  True]\n",
      "  [False False False False False False  True False False False False\n",
      "   False False]\n",
      "  [False  True False False False False False False False False False\n",
      "   False False]\n",
      "  [False False False False False False False  True False False False\n",
      "   False False]\n",
      "  [False False False False False False False False  True False False\n",
      "   False False]\n",
      "  [False False False False False False False False False  True False\n",
      "   False False]]\n",
      "\n",
      " [[False False False False False False False False False  True False\n",
      "   False False]\n",
      "  [False False False False False False  True False False False False\n",
      "   False False]\n",
      "  [False False False False False  True False False False False False\n",
      "   False False]\n",
      "  [False False  True False False False False False False False False\n",
      "   False False]\n",
      "  [False False False  True False False False False False False False\n",
      "   False False]\n",
      "  [ True False False False False False False False False False False\n",
      "   False False]\n",
      "  [ True False False False False False False False False False False\n",
      "   False False]]] \n",
      "\n",
      " label:  [[[False False False False False False False  True False False False\n",
      "   False False]\n",
      "  [False False False False False False False False False False False\n",
      "   False  True]\n",
      "  [False False False False False False False False  True False False\n",
      "   False False]\n",
      "  [ True False False False False False False False False False False\n",
      "   False False]]\n",
      "\n",
      " [[False False False False  True False False False False False False\n",
      "   False False]\n",
      "  [False False False False False False False  True False False False\n",
      "   False False]\n",
      "  [False False False False False False False  True False False False\n",
      "   False False]\n",
      "  [False False False False False False False False False False False\n",
      "   False  True]]\n",
      "\n",
      " [[False False False False False False False False False  True False\n",
      "   False False]\n",
      "  [False False False False False False  True False False False False\n",
      "   False False]\n",
      "  [False False False False False  True False False False False False\n",
      "   False False]\n",
      "  [ True False False False False False False False False False False\n",
      "   False False]]]\n"
     ]
    }
   ],
   "source": [
    "print(\"input: \", x_train[:3], '\\n\\n', \"label: \", y_train[:3])"
   ]
  },
  {
   "cell_type": "code",
   "execution_count": 45,
   "metadata": {},
   "outputs": [
    {
     "name": "stdout",
     "output_type": "stream",
     "text": [
      "Build model...\n",
      "WARNING:tensorflow:From /usr/local/lib/python3.6/dist-packages/tensorflow/python/framework/op_def_library.py:263: colocate_with (from tensorflow.python.framework.ops) is deprecated and will be removed in a future version.\n",
      "Instructions for updating:\n",
      "Colocations handled automatically by placer.\n",
      "_________________________________________________________________\n",
      "Layer (type)                 Output Shape              Param #   \n",
      "=================================================================\n",
      "lstm_1 (LSTM)                (None, 128)               72704     \n",
      "_________________________________________________________________\n",
      "repeat_vector_1 (RepeatVecto (None, 4, 128)            0         \n",
      "_________________________________________________________________\n",
      "lstm_2 (LSTM)                (None, 4, 128)            131584    \n",
      "_________________________________________________________________\n",
      "time_distributed_1 (TimeDist (None, 4, 13)             1677      \n",
      "=================================================================\n",
      "Total params: 205,965\n",
      "Trainable params: 205,965\n",
      "Non-trainable params: 0\n",
      "_________________________________________________________________\n"
     ]
    }
   ],
   "source": [
    "print('Build model...')\n",
    "model = Sequential()\n",
    "model.add(RNN(HIDDEN_SIZE, input_shape=(MAXLEN, len(chars))))\n",
    "model.add(layers.RepeatVector(DIGITS + 1))\n",
    "for _ in range(LAYERS):\n",
    "    model.add(RNN(HIDDEN_SIZE, return_sequences=True))\n",
    "\n",
    "model.add(layers.TimeDistributed(layers.Dense(len(chars), activation='softmax')))\n",
    "model.compile(loss='categorical_crossentropy',\n",
    "              optimizer='adam',\n",
    "              metrics=['accuracy'])\n",
    "model.summary()"
   ]
  },
  {
   "cell_type": "code",
   "execution_count": 64,
   "metadata": {
    "scrolled": true
   },
   "outputs": [
    {
     "name": "stdout",
     "output_type": "stream",
     "text": [
      "\n",
      "--------------------------------------------------\n",
      "Iteration 0\n",
      "Train on 18000 samples, validate on 2000 samples\n",
      "Epoch 1/10\n",
      "18000/18000 [==============================] - 4s 212us/step - loss: 0.0832 - acc: 0.9789 - val_loss: 0.1586 - val_acc: 0.9443\n",
      "Epoch 2/10\n",
      "18000/18000 [==============================] - 4s 220us/step - loss: 0.0728 - acc: 0.9834 - val_loss: 0.1395 - val_acc: 0.9510\n",
      "Epoch 3/10\n",
      "18000/18000 [==============================] - 4s 219us/step - loss: 0.0691 - acc: 0.9851 - val_loss: 0.1446 - val_acc: 0.9478\n",
      "Epoch 4/10\n",
      "18000/18000 [==============================] - 4s 212us/step - loss: 0.0717 - acc: 0.9832 - val_loss: 0.1395 - val_acc: 0.9498\n",
      "Epoch 5/10\n",
      "18000/18000 [==============================] - 4s 229us/step - loss: 0.0652 - acc: 0.9858 - val_loss: 0.1362 - val_acc: 0.9495\n",
      "Epoch 6/10\n",
      "18000/18000 [==============================] - 4s 201us/step - loss: 0.0581 - acc: 0.9888 - val_loss: 0.1296 - val_acc: 0.9536\n",
      "Epoch 7/10\n",
      "18000/18000 [==============================] - 4s 211us/step - loss: 0.0626 - acc: 0.9859 - val_loss: 0.1334 - val_acc: 0.9506\n",
      "Epoch 8/10\n",
      "18000/18000 [==============================] - 4s 211us/step - loss: 0.0707 - acc: 0.9817 - val_loss: 0.1466 - val_acc: 0.9465\n",
      "Epoch 9/10\n",
      "18000/18000 [==============================] - 4s 213us/step - loss: 0.0878 - acc: 0.9740 - val_loss: 0.1411 - val_acc: 0.9504\n",
      "Epoch 10/10\n",
      "18000/18000 [==============================] - 4s 212us/step - loss: 0.0508 - acc: 0.9900 - val_loss: 0.1307 - val_acc: 0.9515\n",
      "Q 590-3   T 587  \u001b[92m☑\u001b[0m 587 \n",
      "Q 534-358 T 176  \u001b[91m☒\u001b[0m 166 \n",
      "Q 720-86  T 634  \u001b[92m☑\u001b[0m 634 \n",
      "Q 843+707 T 1550 \u001b[91m☒\u001b[0m 1551\n",
      "Q 544-267 T 277  \u001b[92m☑\u001b[0m 277 \n",
      "Q 686-97  T 589  \u001b[92m☑\u001b[0m 589 \n",
      "Q 647-59  T 588  \u001b[92m☑\u001b[0m 588 \n",
      "Q 871+405 T 1276 \u001b[92m☑\u001b[0m 1276\n",
      "Q 308-4   T 304  \u001b[92m☑\u001b[0m 304 \n",
      "Q 320-182 T 138  \u001b[92m☑\u001b[0m 138 \n"
     ]
    }
   ],
   "source": [
    "for iteration in range(1):\n",
    "    print()\n",
    "    print('-' * 50)\n",
    "    print('Iteration', iteration)\n",
    "    model.fit(x_train, y_train,\n",
    "              batch_size=BATCH_SIZE,\n",
    "              epochs=10,\n",
    "              validation_data=(x_val, y_val))\n",
    "    for i in range(10):\n",
    "        ind = np.random.randint(0, len(x_val))\n",
    "        rowx, rowy = x_val[np.array([ind])], y_val[np.array([ind])]\n",
    "        preds = model.predict_classes(rowx, verbose=0)\n",
    "        q = ctable.decode(rowx[0])\n",
    "        correct = ctable.decode(rowy[0])\n",
    "        guess = ctable.decode(preds[0], calc_argmax=False)\n",
    "        print('Q', q[::-1] if REVERSE else q, end=' ')\n",
    "        print('T', correct, end=' ')\n",
    "        if correct == guess:\n",
    "            print(colors.ok + '☑' + colors.close, end=' ')\n",
    "        else:\n",
    "            print(colors.fail + '☒' + colors.close, end=' ')\n",
    "        print(guess)"
   ]
  },
  {
   "cell_type": "code",
   "execution_count": 65,
   "metadata": {
    "scrolled": false
   },
   "outputs": [
    {
     "name": "stdout",
     "output_type": "stream",
     "text": [
      "0.833\n"
     ]
    }
   ],
   "source": [
    "Right = 0\n",
    "Wrong = 0\n",
    "for i in range(10000):\n",
    "    ind = np.random.randint(0, len(test_x))\n",
    "    rowx, rowy = test_x[np.array([i])], test_y[np.array([i])]\n",
    "    preds = model.predict_classes(rowx, verbose=0)\n",
    "    q = ctable.decode(rowx[0])\n",
    "    correct = ctable.decode(rowy[0])\n",
    "    guess = ctable.decode(preds[0], calc_argmax=False)\n",
    "    \n",
    "    #print('Q', q[::-1] if REVERSE else q, end=' ')\n",
    "    #print('T', correct, end=' ')\n",
    "\n",
    "    if correct == guess:\n",
    "        Right += 1\n",
    "    else:\n",
    "        Wrong += 1\n",
    "print(Right/10000)"
   ]
  },
  {
   "cell_type": "code",
   "execution_count": null,
   "metadata": {},
   "outputs": [],
   "source": []
  }
 ],
 "metadata": {
  "kernelspec": {
   "display_name": "Python 3",
   "language": "python",
   "name": "python3"
  },
  "language_info": {
   "codemirror_mode": {
    "name": "ipython",
    "version": 3
   },
   "file_extension": ".py",
   "mimetype": "text/x-python",
   "name": "python",
   "nbconvert_exporter": "python",
   "pygments_lexer": "ipython3",
   "version": "3.6.7"
  }
 },
 "nbformat": 4,
 "nbformat_minor": 2
}
