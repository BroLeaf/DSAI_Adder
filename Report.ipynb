{
 "cells": [
  {
   "cell_type": "markdown",
   "metadata": {},
   "source": [
    "# Report\n",
    "* epoch 以 **10** 為一單位\n",
    "* train size 用 60000 太多、太久，減少到 10000\n",
    "\n",
    "|運算/epoch|10|20|30|40|50|60|70|80|90|100|\n",
    "|:-:|:-:|:-:|:-:|:-:|:-:|:-:|:-:|:-:|:-:|:-:|\n",
    "|Add|0.0079|0.0548|0.3213|0.6282|0.7671|0.8627|0.8971|0.9109|0.9183|0.9226|\n",
    "|Sub|0.0143|0.0501|0.1291|0.3668|0.6851|0.7738|0.8293|0.8526|0.889|0.8206|\n",
    "|Add & Sub|0.0097|0.0274|0.0661|0.2213|0.5005|0.604|0.7357|0.7804|0.8168|0.833|\n",
    "\n",
    "大方向都是越多次 epoch 準確度越高\n",
    "\n",
    "在次數少的時候提昇非常明顯，\n",
    "\n",
    "在次數多時，有時候減法反而會出現準確度下降(不只這次，其他次測試偶而也會發生)\n",
    "\n",
    "混合的部份：\n",
    "\n",
    "雖然我想讓分佈盡量一半一半，但是 random function 似乎沒有很隨機，整體偏向加法\n",
    "\n",
    "準確度穩定提昇，分佈不均勻也可能是其中一個原因\n"
   ]
  }
 ],
 "metadata": {
  "kernelspec": {
   "display_name": "Python 3",
   "language": "python",
   "name": "python3"
  },
  "language_info": {
   "codemirror_mode": {
    "name": "ipython",
    "version": 3
   },
   "file_extension": ".py",
   "mimetype": "text/x-python",
   "name": "python",
   "nbconvert_exporter": "python",
   "pygments_lexer": "ipython3",
   "version": "3.6.7"
  }
 },
 "nbformat": 4,
 "nbformat_minor": 2
}
